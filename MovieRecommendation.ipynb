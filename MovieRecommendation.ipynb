{
  "nbformat": 4,
  "nbformat_minor": 0,
  "metadata": {
    "colab": {
      "provenance": [],
      "authorship_tag": "ABX9TyOtZUXyIjmXVc1ogtZ2Q3ot",
      "include_colab_link": true
    },
    "kernelspec": {
      "name": "python3",
      "display_name": "Python 3"
    },
    "language_info": {
      "name": "python"
    }
  },
  "cells": [
    {
      "cell_type": "markdown",
      "metadata": {
        "id": "view-in-github",
        "colab_type": "text"
      },
      "source": [
        "<a href=\"https://colab.research.google.com/github/SAIRAALMAS88/AI_Dataapp/blob/main/MovieRecommendation.ipynb\" target=\"_parent\"><img src=\"https://colab.research.google.com/assets/colab-badge.svg\" alt=\"Open In Colab\"/></a>"
      ]
    },
    {
      "cell_type": "markdown",
      "source": [
        "Task Overview\n",
        "\n",
        "Description:\n",
        "\n",
        "Implement a simple movie recommendation system using either collaborative filtering (user-item or item-item) or content-based filtering."
      ],
      "metadata": {
        "id": "i2Vg0gLedS2j"
      }
    },
    {
      "cell_type": "code",
      "execution_count": 1,
      "metadata": {
        "id": "UgD04oqUdItK"
      },
      "outputs": [],
      "source": [
        "# Importing essential Libraries\n",
        "\n",
        "import pandas as pd # For Dtata Manipulation\n",
        "from sklearn.metrics.pairwise import cosine_similarity # For Machine Learning Algorithm\n",
        "import numpy as np # For Data Pre processing\n"
      ]
    },
    {
      "cell_type": "markdown",
      "source": [
        "Sample Dataset"
      ],
      "metadata": {
        "id": "4Q4z61QugtI1"
      }
    },
    {
      "cell_type": "code",
      "source": [
        "# Sample user-movie ratings\n",
        "data = {\n",
        "    'User': ['A', 'A', 'A', 'B', 'B', 'C', 'C', 'D'],\n",
        "    'Movie': ['Titanic', 'Avatar', 'Inception', 'Titanic', 'Inception', 'Avatar', 'Godfather', 'Godfather'],\n",
        "    'Rating': [5, 4, 4, 5, 5, 5, 4, 5]\n",
        "}\n",
        "\n",
        "df = pd.DataFrame(data)\n",
        "print(df)\n"
      ],
      "metadata": {
        "colab": {
          "base_uri": "https://localhost:8080/"
        },
        "id": "3r9apxeYf0gb",
        "outputId": "d679a9e6-8503-4735-b5c2-f7faa98655cd"
      },
      "execution_count": 5,
      "outputs": [
        {
          "output_type": "stream",
          "name": "stdout",
          "text": [
            "  User      Movie  Rating\n",
            "0    A    Titanic       5\n",
            "1    A     Avatar       4\n",
            "2    A  Inception       4\n",
            "3    B    Titanic       5\n",
            "4    B  Inception       5\n",
            "5    C     Avatar       5\n",
            "6    C  Godfather       4\n",
            "7    D  Godfather       5\n"
          ]
        }
      ]
    },
    {
      "cell_type": "markdown",
      "source": [
        " Create User-Item Matrix\n"
      ],
      "metadata": {
        "id": "W4naitnAgmLr"
      }
    },
    {
      "cell_type": "code",
      "source": [
        "# Create a pivot table (user-item matrix)\n",
        "user_item_matrix = df.pivot_table(index='User', columns='Movie', values='Rating').fillna(0)\n",
        "print(user_item_matrix)\n"
      ],
      "metadata": {
        "colab": {
          "base_uri": "https://localhost:8080/"
        },
        "id": "0_hL-xlMgCce",
        "outputId": "45dd53a4-e4e5-40b5-9a25-5e38f3f36315"
      },
      "execution_count": 7,
      "outputs": [
        {
          "output_type": "stream",
          "name": "stdout",
          "text": [
            "Movie  Avatar  Godfather  Inception  Titanic\n",
            "User                                        \n",
            "A         4.0        0.0        4.0      5.0\n",
            "B         0.0        0.0        5.0      5.0\n",
            "C         5.0        4.0        0.0      0.0\n",
            "D         0.0        5.0        0.0      0.0\n"
          ]
        }
      ]
    },
    {
      "cell_type": "markdown",
      "source": [
        "Compute Item-Item Similarity Matrix"
      ],
      "metadata": {
        "id": "Cp8db7U4gf1U"
      }
    },
    {
      "cell_type": "code",
      "source": [
        "# Transpose to get movie-user matrix\n",
        "item_user_matrix = user_item_matrix.T\n",
        "\n",
        "# Compute cosine similarity between items\n",
        "similarity_matrix = pd.DataFrame(cosine_similarity(item_user_matrix),\n",
        "                                 index=item_user_matrix.index,\n",
        "                                 columns=item_user_matrix.index)\n",
        "print(similarity_matrix)\n"
      ],
      "metadata": {
        "colab": {
          "base_uri": "https://localhost:8080/"
        },
        "id": "YHl8A7yKgQ27",
        "outputId": "913c947e-1cc1-4ba2-a4b5-75fab6670554"
      },
      "execution_count": 8,
      "outputs": [
        {
          "output_type": "stream",
          "name": "stdout",
          "text": [
            "Movie        Avatar  Godfather  Inception   Titanic\n",
            "Movie                                              \n",
            "Avatar     1.000000   0.487805   0.390244  0.441726\n",
            "Godfather  0.487805   1.000000   0.000000  0.000000\n",
            "Inception  0.390244   0.000000   1.000000  0.993884\n",
            "Titanic    0.441726   0.000000   0.993884  1.000000\n"
          ]
        }
      ]
    },
    {
      "cell_type": "markdown",
      "source": [
        "Recommend Similar Movies"
      ],
      "metadata": {
        "id": "FSSYcWMshIe1"
      }
    },
    {
      "cell_type": "code",
      "source": [
        "# Function to recommend movies based on a given movie\n",
        "def recommend_movies(movie_name, similarity_matrix, top_n=3):\n",
        "    if movie_name not in similarity_matrix.columns:\n",
        "        return \"Movie not found in dataset.\"\n",
        "\n",
        "    # Sort similar movies by similarity score\n",
        "    similar_scores = similarity_matrix[movie_name].sort_values(ascending=False)\n",
        "    recommended = similar_scores[1:top_n+1]  # Exclude the movie itself\n",
        "    return recommended\n",
        "\n",
        "# Example: Recommend movies similar to 'Titanic'\n",
        "recommendations = recommend_movies('Titanic', similarity_matrix)\n",
        "print(\"Recommendations for 'Titanic':\")\n",
        "print(recommendations)\n"
      ],
      "metadata": {
        "colab": {
          "base_uri": "https://localhost:8080/"
        },
        "id": "JasYGrXBhL6x",
        "outputId": "3891aafd-fa39-4ad1-8b63-6a5f6b3eb55b"
      },
      "execution_count": 9,
      "outputs": [
        {
          "output_type": "stream",
          "name": "stdout",
          "text": [
            "Recommendations for 'Titanic':\n",
            "Movie\n",
            "Inception    0.993884\n",
            "Avatar       0.441726\n",
            "Godfather    0.000000\n",
            "Name: Titanic, dtype: float64\n"
          ]
        }
      ]
    },
    {
      "cell_type": "markdown",
      "source": [
        "Explanation\n",
        "\n",
        "Collaborative filtering (item-item) works by finding similar items based on user ratings.\n",
        "\n",
        "We use cosine similarity to find how closely related items are.\n",
        "\n",
        "The system recommends movies that are rated similarly by users.\n",
        "\n"
      ],
      "metadata": {
        "id": "zjvsri8Hhih2"
      }
    }
  ]
}